{
  "cells": [
    {
      "cell_type": "markdown",
      "metadata": {
        "colab_type": "text",
        "id": "view-in-github"
      },
      "source": [
        "<a href=\"https://colab.research.google.com/github/idarapatrick/Peer-Group-6-Math-For-ML/blob/main/Template_PCA_Formative_1_Group_6.ipynb\" target=\"_parent\"><img src=\"https://colab.research.google.com/assets/colab-badge.svg\" alt=\"Open In Colab\"/></a>"
      ]
    },
    {
      "cell_type": "markdown",
      "metadata": {
        "id": "JqkivgEHr_KW"
      },
      "source": [
        "# Formative Assignment: Advanced Linear Algebra (PCA)\n",
        "This notebook will guide you through the implementation of Principal Component Analysis (PCA). Fill in the missing code and provide the required answers in the appropriate sections. You will work with a dataset that is Africanized .\n",
        "\n",
        "Make sure to display outputs for each code cell when submitting."
      ]
    },
    {
      "cell_type": "markdown",
      "metadata": {
        "id": "xycIp758r_Kb"
      },
      "source": [
        "### Step 1: Load and Standardize the Data\n",
        "Before applying PCA, we must standardize the dataset. Standardization ensures that all features have a mean of 0 and a standard deviation of 1, which is essential for PCA.\n",
        "Fill in the code to standardize the dataset.\n",
        "\n",
        "STRICTLY - Write code that implements standardization based on the image below\n",
        "\n",
        "<img src='data:image/jpeg;base64,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'/>\n"
      ]
    },
    {
      "cell_type": "code",
      "execution_count": 3,
      "metadata": {
        "id": "hYW7ITKw3A2p"
      },
      "outputs": [],
      "source": [
        "import numpy as np\n",
        "import pandas as pd\n",
        "import matplotlib.pyplot as plt\n",
        "import seaborn as sns"
      ]
    },
    {
      "cell_type": "code",
      "execution_count": 4,
      "metadata": {
        "colab": {
          "base_uri": "https://localhost:8080/",
          "height": 317
        },
        "id": "UFcHn2DL3EYv",
        "outputId": "ac97a90d-674d-480c-acb0-c3b559321b34"
      },
      "outputs": [
        {
          "data": {
            "text/html": [
              "<div>\n",
              "<style scoped>\n",
              "    .dataframe tbody tr th:only-of-type {\n",
              "        vertical-align: middle;\n",
              "    }\n",
              "\n",
              "    .dataframe tbody tr th {\n",
              "        vertical-align: top;\n",
              "    }\n",
              "\n",
              "    .dataframe thead th {\n",
              "        text-align: right;\n",
              "    }\n",
              "</style>\n",
              "<table border=\"1\" class=\"dataframe\">\n",
              "  <thead>\n",
              "    <tr style=\"text-align: right;\">\n",
              "      <th></th>\n",
              "      <th>Year</th>\n",
              "      <th>Malaria cases reported</th>\n",
              "      <th>Urban population (% of total population)</th>\n",
              "      <th>Rural population (% of total population)</th>\n",
              "    </tr>\n",
              "  </thead>\n",
              "  <tbody>\n",
              "    <tr>\n",
              "      <th>count</th>\n",
              "      <td>54.0</td>\n",
              "      <td>5.400000e+01</td>\n",
              "      <td>54.000000</td>\n",
              "      <td>54.000000</td>\n",
              "    </tr>\n",
              "    <tr>\n",
              "      <th>mean</th>\n",
              "      <td>2010.0</td>\n",
              "      <td>4.108289e+05</td>\n",
              "      <td>42.206667</td>\n",
              "      <td>57.794074</td>\n",
              "    </tr>\n",
              "    <tr>\n",
              "      <th>std</th>\n",
              "      <td>0.0</td>\n",
              "      <td>5.930371e+05</td>\n",
              "      <td>17.886950</td>\n",
              "      <td>17.887274</td>\n",
              "    </tr>\n",
              "    <tr>\n",
              "      <th>min</th>\n",
              "      <td>2010.0</td>\n",
              "      <td>0.000000e+00</td>\n",
              "      <td>10.640000</td>\n",
              "      <td>14.470000</td>\n",
              "    </tr>\n",
              "    <tr>\n",
              "      <th>25%</th>\n",
              "      <td>2010.0</td>\n",
              "      <td>1.250000e+01</td>\n",
              "      <td>29.040000</td>\n",
              "      <td>44.920000</td>\n",
              "    </tr>\n",
              "    <tr>\n",
              "      <th>50%</th>\n",
              "      <td>2010.0</td>\n",
              "      <td>4.346450e+04</td>\n",
              "      <td>40.060000</td>\n",
              "      <td>59.940000</td>\n",
              "    </tr>\n",
              "    <tr>\n",
              "      <th>75%</th>\n",
              "      <td>2010.0</td>\n",
              "      <td>7.835435e+05</td>\n",
              "      <td>55.080000</td>\n",
              "      <td>70.960000</td>\n",
              "    </tr>\n",
              "    <tr>\n",
              "      <th>max</th>\n",
              "      <td>2010.0</td>\n",
              "      <td>2.417780e+06</td>\n",
              "      <td>85.530000</td>\n",
              "      <td>89.360000</td>\n",
              "    </tr>\n",
              "  </tbody>\n",
              "</table>\n",
              "</div>"
            ],
            "text/plain": [
              "         Year  Malaria cases reported  \\\n",
              "count    54.0            5.400000e+01   \n",
              "mean   2010.0            4.108289e+05   \n",
              "std       0.0            5.930371e+05   \n",
              "min    2010.0            0.000000e+00   \n",
              "25%    2010.0            1.250000e+01   \n",
              "50%    2010.0            4.346450e+04   \n",
              "75%    2010.0            7.835435e+05   \n",
              "max    2010.0            2.417780e+06   \n",
              "\n",
              "       Urban population (% of total population)  \\\n",
              "count                                 54.000000   \n",
              "mean                                  42.206667   \n",
              "std                                   17.886950   \n",
              "min                                   10.640000   \n",
              "25%                                   29.040000   \n",
              "50%                                   40.060000   \n",
              "75%                                   55.080000   \n",
              "max                                   85.530000   \n",
              "\n",
              "       Rural population (% of total population)  \n",
              "count                                 54.000000  \n",
              "mean                                  57.794074  \n",
              "std                                   17.887274  \n",
              "min                                   14.470000  \n",
              "25%                                   44.920000  \n",
              "50%                                   59.940000  \n",
              "75%                                   70.960000  \n",
              "max                                   89.360000  "
            ]
          },
          "execution_count": 4,
          "metadata": {},
          "output_type": "execute_result"
        }
      ],
      "source": [
        "data = pd.read_csv(\"DatasetAfricaMalaria.csv\")\n",
        "\n",
        "new_data = data[[\"Country Name\", \"Year\", \"Malaria cases reported\", \"Urban population (% of total population)\", \"Rural population (% of total population)\"]]\n",
        "new_data = new_data.fillna(0)\n",
        "new_data = new_data[new_data[\"Year\"] == 2010].reset_index(drop=True)\n",
        "new_data.describe()"
      ]
    },
    {
      "cell_type": "code",
      "execution_count": 5,
      "metadata": {
        "colab": {
          "base_uri": "https://localhost:8080/",
          "height": 433
        },
        "id": "TuCvqNo83YoH",
        "outputId": "533714f0-08ea-4e5a-fd81-97ab00afbf2a"
      },
      "outputs": [
        {
          "name": "stdout",
          "output_type": "stream",
          "text": [
            "The mean of Malaria cases reported is: 410828.8888888889\n"
          ]
        },
        {
          "data": {
            "text/html": [
              "<div>\n",
              "<style scoped>\n",
              "    .dataframe tbody tr th:only-of-type {\n",
              "        vertical-align: middle;\n",
              "    }\n",
              "\n",
              "    .dataframe tbody tr th {\n",
              "        vertical-align: top;\n",
              "    }\n",
              "\n",
              "    .dataframe thead th {\n",
              "        text-align: right;\n",
              "    }\n",
              "</style>\n",
              "<table border=\"1\" class=\"dataframe\">\n",
              "  <thead>\n",
              "    <tr style=\"text-align: right;\">\n",
              "      <th></th>\n",
              "      <th>Country Name</th>\n",
              "      <th>Year</th>\n",
              "      <th>Malaria cases reported</th>\n",
              "      <th>Urban population (% of total population)</th>\n",
              "      <th>Rural population (% of total population)</th>\n",
              "      <th>Malaria Intensity</th>\n",
              "    </tr>\n",
              "  </thead>\n",
              "  <tbody>\n",
              "    <tr>\n",
              "      <th>0</th>\n",
              "      <td>Algeria</td>\n",
              "      <td>2010</td>\n",
              "      <td>1.0</td>\n",
              "      <td>67.54</td>\n",
              "      <td>32.46</td>\n",
              "      <td>0</td>\n",
              "    </tr>\n",
              "    <tr>\n",
              "      <th>1</th>\n",
              "      <td>Angola</td>\n",
              "      <td>2010</td>\n",
              "      <td>1682870.0</td>\n",
              "      <td>59.78</td>\n",
              "      <td>40.22</td>\n",
              "      <td>1</td>\n",
              "    </tr>\n",
              "    <tr>\n",
              "      <th>2</th>\n",
              "      <td>Benin</td>\n",
              "      <td>2010</td>\n",
              "      <td>0.0</td>\n",
              "      <td>43.09</td>\n",
              "      <td>56.91</td>\n",
              "      <td>0</td>\n",
              "    </tr>\n",
              "    <tr>\n",
              "      <th>3</th>\n",
              "      <td>Botswana</td>\n",
              "      <td>2010</td>\n",
              "      <td>1046.0</td>\n",
              "      <td>62.41</td>\n",
              "      <td>37.59</td>\n",
              "      <td>0</td>\n",
              "    </tr>\n",
              "    <tr>\n",
              "      <th>4</th>\n",
              "      <td>Burkina Faso</td>\n",
              "      <td>2010</td>\n",
              "      <td>804539.0</td>\n",
              "      <td>24.63</td>\n",
              "      <td>75.37</td>\n",
              "      <td>1</td>\n",
              "    </tr>\n",
              "    <tr>\n",
              "      <th>5</th>\n",
              "      <td>Burundi</td>\n",
              "      <td>2010</td>\n",
              "      <td>1763447.0</td>\n",
              "      <td>10.64</td>\n",
              "      <td>89.36</td>\n",
              "      <td>1</td>\n",
              "    </tr>\n",
              "    <tr>\n",
              "      <th>6</th>\n",
              "      <td>Cabo Verde</td>\n",
              "      <td>2010</td>\n",
              "      <td>47.0</td>\n",
              "      <td>61.82</td>\n",
              "      <td>38.18</td>\n",
              "      <td>0</td>\n",
              "    </tr>\n",
              "    <tr>\n",
              "      <th>7</th>\n",
              "      <td>Cameroon</td>\n",
              "      <td>2010</td>\n",
              "      <td>0.0</td>\n",
              "      <td>51.56</td>\n",
              "      <td>48.44</td>\n",
              "      <td>0</td>\n",
              "    </tr>\n",
              "    <tr>\n",
              "      <th>8</th>\n",
              "      <td>Central African Republic</td>\n",
              "      <td>2010</td>\n",
              "      <td>0.0</td>\n",
              "      <td>38.90</td>\n",
              "      <td>61.10</td>\n",
              "      <td>0</td>\n",
              "    </tr>\n",
              "    <tr>\n",
              "      <th>9</th>\n",
              "      <td>Chad</td>\n",
              "      <td>2010</td>\n",
              "      <td>200448.0</td>\n",
              "      <td>21.99</td>\n",
              "      <td>78.02</td>\n",
              "      <td>0</td>\n",
              "    </tr>\n",
              "  </tbody>\n",
              "</table>\n",
              "</div>"
            ],
            "text/plain": [
              "               Country Name  Year  Malaria cases reported  \\\n",
              "0                   Algeria  2010                     1.0   \n",
              "1                    Angola  2010               1682870.0   \n",
              "2                     Benin  2010                     0.0   \n",
              "3                  Botswana  2010                  1046.0   \n",
              "4              Burkina Faso  2010                804539.0   \n",
              "5                   Burundi  2010               1763447.0   \n",
              "6                Cabo Verde  2010                    47.0   \n",
              "7                  Cameroon  2010                     0.0   \n",
              "8  Central African Republic  2010                     0.0   \n",
              "9                      Chad  2010                200448.0   \n",
              "\n",
              "   Urban population (% of total population)  \\\n",
              "0                                     67.54   \n",
              "1                                     59.78   \n",
              "2                                     43.09   \n",
              "3                                     62.41   \n",
              "4                                     24.63   \n",
              "5                                     10.64   \n",
              "6                                     61.82   \n",
              "7                                     51.56   \n",
              "8                                     38.90   \n",
              "9                                     21.99   \n",
              "\n",
              "   Rural population (% of total population)  Malaria Intensity  \n",
              "0                                     32.46                  0  \n",
              "1                                     40.22                  1  \n",
              "2                                     56.91                  0  \n",
              "3                                     37.59                  0  \n",
              "4                                     75.37                  1  \n",
              "5                                     89.36                  1  \n",
              "6                                     38.18                  0  \n",
              "7                                     48.44                  0  \n",
              "8                                     61.10                  0  \n",
              "9                                     78.02                  0  "
            ]
          },
          "metadata": {},
          "output_type": "display_data"
        }
      ],
      "source": [
        "# Calculate the mean of 'Malaria cases reported'\n",
        "mean_malaria_cases = new_data[\"Malaria cases reported\"].mean()\n",
        "print(f\"The mean of Malaria cases reported is: {mean_malaria_cases}\")\n",
        "\n",
        "# Create the \"Malaria Intensity\" column based on the condition\n",
        "new_data[\"Malaria Intensity\"] = (new_data[\"Malaria cases reported\"] > mean_malaria_cases).astype(int)\n",
        "\n",
        "display(new_data.head(10))"
      ]
    },
    {
      "cell_type": "code",
      "execution_count": 6,
      "metadata": {
        "colab": {
          "base_uri": "https://localhost:8080/",
          "height": 126
        },
        "id": "BKihXBaBr_Kc",
        "outputId": "eff9a4a6-a2a4-4d37-90c2-7b6d9ea812b7"
      },
      "outputs": [
        {
          "name": "stdout",
          "output_type": "stream",
          "text": [
            "Standardized Data:\n"
          ]
        },
        {
          "data": {
            "text/plain": [
              "array([[-0.69925726,  1.42960151, -1.42961738],\n",
              "       [ 2.16510125,  0.99169199, -0.99171581],\n",
              "       [-0.69925896,  0.04984795, -0.04988884],\n",
              "       [-0.69747859,  1.1401072 , -1.14012832],\n",
              "       [ 0.67012162, -0.9918801 ,  0.99182031]])"
            ]
          },
          "metadata": {},
          "output_type": "display_data"
        }
      ],
      "source": [
        "# Step 1: Load and Standardize the data (use of numpy only allowed)\n",
        "features_to_standardize = new_data[[\"Malaria cases reported\", \"Urban population (% of total population)\", \"Rural population (% of total population)\"]].values\n",
        "mean = np.mean(features_to_standardize, axis=0)\n",
        "std_dev = np.std(features_to_standardize, axis=0)\n",
        "standardized_data = (features_to_standardize - mean) / std_dev\n",
        "\n",
        "print(\"Standardized Data:\")\n",
        "display(standardized_data[:5])  # Display the first few rows of standardized data"
      ]
    },
    {
      "cell_type": "code",
      "execution_count": 7,
      "metadata": {
        "colab": {
          "base_uri": "https://localhost:8080/"
        },
        "id": "_Zf85fCm38Lw",
        "outputId": "c7e51482-bac7-411b-f249-90b3c85507ef"
      },
      "outputs": [
        {
          "name": "stdout",
          "output_type": "stream",
          "text": [
            "Mean of standardized data: [-6.16790569e-18 -1.97372982e-16 -8.01827740e-17]\n",
            "Standard deviation of standardized data: [1. 1. 1.]\n"
          ]
        }
      ],
      "source": [
        "# Check the mean and standard deviation of the standardized data\n",
        "mean_standardized = np.mean(standardized_data, axis=0)\n",
        "std_dev_standardized = np.std(standardized_data, axis=0)\n",
        "\n",
        "print(\"Mean of standardized data:\", mean_standardized)\n",
        "print(\"Standard deviation of standardized data:\", std_dev_standardized)"
      ]
    },
    {
      "cell_type": "markdown",
      "metadata": {
        "id": "Fybn40Syr_Kd"
      },
      "source": [
        "### Step 3: Calculate the Covariance Matrix\n",
        "The covariance matrix helps us understand how the features are related to each other. It is a key component in PCA."
      ]
    },
    {
      "cell_type": "code",
      "execution_count": 9,
      "metadata": {
        "colab": {
          "base_uri": "https://localhost:8080/",
          "height": 72
        },
        "id": "RbklA9tqr_Ke",
        "outputId": "1d9493b1-515e-407d-be49-c59c301dc8b4"
      },
      "outputs": [
        {
          "data": {
            "text/plain": [
              "array([[ 1.01886792, -0.40305823,  0.40302543],\n",
              "       [-0.40305823,  1.01886792, -1.01886791],\n",
              "       [ 0.40302543, -1.01886791,  1.01886792]])"
            ]
          },
          "metadata": {},
          "output_type": "display_data"
        }
      ],
      "source": [
        "# Step 3: Calculate the Covariance Matrix\n",
        "cov_matrix = np.cov(standardized_data, rowvar=False)  # Calculate covariance matrix\n",
        "display(cov_matrix)"
      ]
    },
    {
      "cell_type": "markdown",
      "metadata": {
        "id": "dWzqXsR0r_Ke"
      },
      "source": [
        "### Step 4: Perform Eigendecomposition\n",
        "Eigendecomposition of the covariance matrix will give us the eigenvalues and eigenvectors, which are essential for PCA.\n",
        "Fill in the code to compute the eigenvalues and eigenvectors of the covariance matrix."
      ]
    },
    {
      "cell_type": "code",
      "execution_count": 12,
      "metadata": {
        "colab": {
          "base_uri": "https://localhost:8080/",
          "height": 90
        },
        "id": "8Tm0rzdAr_Ke",
        "outputId": "c24e0787-70cb-4f54-fe61-5534e9ee6bd4"
      },
      "outputs": [
        {
          "data": {
            "text/plain": [
              "(array([2.29276796e+00, 7.63835800e-01, 1.03330195e-08]),\n",
              " array([[-4.08416554e-01,  9.12795660e-01,  2.69916883e-05],\n",
              "        [ 6.45446924e-01,  2.88774513e-01,  7.07112120e-01],\n",
              "        [-6.45441080e-01, -2.88813717e-01,  7.07101442e-01]]))"
            ]
          },
          "metadata": {},
          "output_type": "display_data"
        }
      ],
      "source": [
        "# Step 4: Perform Eigendecomposition\n",
        "eigenvalues, eigenvectors = np.linalg.eig(cov_matrix)  # Perform eigendecomposition\n",
        "display((eigenvalues, eigenvectors))"
      ]
    },
    {
      "cell_type": "markdown",
      "metadata": {
        "id": "bp6o_4sTr_Kf"
      },
      "source": [
        "### Step 5: Sort Principal Components\n",
        "Sort the eigenvectors based on their corresponding eigenvalues in descending order. The higher the eigenvalue, the more important the eigenvector.\n",
        "Complete the code to sort the eigenvectors and print the sorted components.\n",
        "\n",
        "<a url ='https://www.youtube.com/watch?v=vaF-1xUEXsA&t=17s'>How Is Explained Variance Used In PCA?'<a/>"
      ]
    },
    {
      "cell_type": "code",
      "execution_count": 11,
      "metadata": {
        "colab": {
          "base_uri": "https://localhost:8080/",
          "height": 72
        },
        "id": "jpfoRz-Xr_Kf",
        "outputId": "05845274-c55b-43db-bd80-98656ff15a3f"
      },
      "outputs": [
        {
          "data": {
            "text/plain": [
              "array([[-4.08416554e-01,  9.12795660e-01,  2.69916883e-05],\n",
              "       [ 6.45446924e-01,  2.88774513e-01,  7.07112120e-01],\n",
              "       [-6.45441080e-01, -2.88813717e-01,  7.07101442e-01]])"
            ]
          },
          "metadata": {},
          "output_type": "display_data"
        }
      ],
      "source": [
        "# Step 5: Sort Principal Components\n",
        "sorted_indices = np.argsort(eigenvalues)[::-1]  # Sort eigenvalues in descending order\n",
        "sorted_eigenvectors = eigenvectors[:, sorted_indices]  # Sort eigenvectors accordingly\n",
        "display(sorted_eigenvectors)"
      ]
    },
    {
      "cell_type": "markdown",
      "metadata": {
        "id": "uxbmuO27r_Kg"
      },
      "source": [
        "### Step 6: Project Data onto Principal Components\n",
        "Now that we’ve selected the number of components, we will project the original data onto the chosen principal components.\n",
        "Fill in the code to perform the projection."
      ]
    },
    {
      "cell_type": "code",
      "execution_count": 13,
      "metadata": {
        "colab": {
          "base_uri": "https://localhost:8080/",
          "height": 108
        },
        "id": "ubjIMAtWr_Kg",
        "outputId": "01b30061-71ab-4e19-d768-16d549b405fb"
      },
      "outputs": [
        {
          "data": {
            "text/plain": [
              "array([[ 2.13105392,  0.1874466 ],\n",
              "       [ 0.39591547,  2.54909153],\n",
              "       [ 0.34996345, -0.60947714],\n",
              "       [ 1.75662615,  0.02186317],\n",
              "       [-1.55405629,  0.03880311]])"
            ]
          },
          "metadata": {},
          "output_type": "display_data"
        }
      ],
      "source": [
        "# Step 6: Project Data onto Principal Components\n",
        "num_components = 2  # Decide on the number of principal components to keep (e.g., 2 for visualization)\n",
        "reduced_data = standardized_data.dot(sorted_eigenvectors[:, :num_components])  # Project data onto the principal components\n",
        "display(reduced_data[:5])"
      ]
    },
    {
      "cell_type": "markdown",
      "metadata": {
        "id": "XVq-b6vtr_Kg"
      },
      "source": [
        "### Step 7: Output the Reduced Data\n",
        "Finally, display the reduced data obtained by projecting the original dataset onto the selected principal components."
      ]
    },
    {
      "cell_type": "code",
      "execution_count": 14,
      "metadata": {
        "colab": {
          "base_uri": "https://localhost:8080/",
          "height": 126
        },
        "id": "5D0uzRyPr_Kg",
        "outputId": "5069b82d-9623-49d8-bcd9-ef3e5b3f2c54"
      },
      "outputs": [
        {
          "name": "stdout",
          "output_type": "stream",
          "text": [
            "Reduced Data Shape: (54, 2)\n"
          ]
        },
        {
          "data": {
            "text/plain": [
              "array([[ 2.13105392,  0.1874466 ],\n",
              "       [ 0.39591547,  2.54909153],\n",
              "       [ 0.34996345, -0.60947714],\n",
              "       [ 1.75662615,  0.02186317],\n",
              "       [-1.55405629,  0.03880311]])"
            ]
          },
          "metadata": {},
          "output_type": "display_data"
        }
      ],
      "source": [
        "# Step 7: Output the Reduced Data\n",
        "print(f'Reduced Data Shape: {reduced_data.shape}')  # Display reduced data shape\n",
        "display(reduced_data[:5])  # Display the first few rows of reduced data"
      ]
    },
    {
      "cell_type": "markdown",
      "metadata": {
        "id": "S1f8ROm5r_Kg"
      },
      "source": [
        "### Step 8: Visualize Before and After PCA\n",
        "Now, let's plot the original data and the data after PCA to compare the reduction in dimensions visually."
      ]
    },
    {
      "cell_type": "code",
      "execution_count": 15,
      "metadata": {
        "colab": {
          "base_uri": "https://localhost:8080/",
          "height": 402
        },
        "id": "WwuppWV-r_Kg",
        "outputId": "e6655665-91f8-4ccc-bc47-687a09711764"
      },
      "outputs": [
        {
          "data": {
            "image/png": "[encoded data removed]",
            "text/plain": [
              "<Figure size 1000x500 with 2 Axes>"
            ]
          },
          "metadata": {},
          "output_type": "display_data"
        }
      ],
      "source": [
        "# Step 8: Visualize Before and After PCA\n",
        "\n",
        "\n",
        "# Plot original data (first two features for simplicity)\n",
        "\n",
        "plt.figure(figsize=(10, 5))\n",
        "plt.subplot(1, 2, 1)\n",
        "plt.scatter(standardized_data[:, 0], standardized_data[:, 1], alpha=0.7)\n",
        "plt.title('Original Data (First Two Features)')\n",
        "plt.xlabel('Malaria cases reported (Standardized)')\n",
        "plt.ylabel('Urban population (% of total population) (Standardized)')\n",
        "plt.grid(True)\n",
        "\n",
        "# Plot reduced data after PCA\n",
        "plt.subplot(1, 2, 2)\n",
        "plt.scatter(reduced_data[:, 0], reduced_data[:, 1], alpha=0.7)\n",
        "plt.title(f'Data After PCA ({num_components} Components)')\n",
        "plt.xlabel('Principal Component 1')\n",
        "plt.ylabel('Principal Component 2')\n",
        "plt.grid(True)\n",
        "\n",
        "plt.tight_layout()\n",
        "plt.show()"
      ]
    }
  ],
  "metadata": {
    "colab": {
      "include_colab_link": true,
      "provenance": []
    },
    "kernelspec": {
      "display_name": "Python 3",
      "name": "python3"
    },
    "language_info": {
      "codemirror_mode": {
        "name": "ipython",
        "version": 3
      },
      "file_extension": ".py",
      "mimetype": "text/x-python",
      "name": "python",
      "nbconvert_exporter": "python",
      "pygments_lexer": "ipython3",
      "version": "3.9.6"
    }
  },
  "nbformat": 4,
  "nbformat_minor": 0
}
